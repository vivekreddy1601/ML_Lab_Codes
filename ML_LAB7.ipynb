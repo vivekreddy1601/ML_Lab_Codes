{
  "nbformat": 4,
  "nbformat_minor": 0,
  "metadata": {
    "colab": {
      "provenance": []
    },
    "kernelspec": {
      "name": "python3",
      "display_name": "Python 3"
    },
    "language_info": {
      "name": "python"
    }
  },
  "cells": [
    {
      "cell_type": "markdown",
      "source": [
        "NAME :: M VIVEK SRIKAR REDDY\n",
        "\n",
        "REG NO :: BL.EN.U4CSE21115"
      ],
      "metadata": {
        "id": "t1SVPO_-Q26P"
      }
    },
    {
      "cell_type": "code",
      "execution_count": 2,
      "metadata": {
        "colab": {
          "base_uri": "https://localhost:8080/",
          "height": 74
        },
        "id": "r0Vo32j4QyTq",
        "outputId": "7f1b3d3f-7f4d-47a1-e42d-f7fc28e1e972"
      },
      "outputs": [
        {
          "output_type": "display_data",
          "data": {
            "text/plain": [
              "<IPython.core.display.HTML object>"
            ],
            "text/html": [
              "\n",
              "     <input type=\"file\" id=\"files-4d4b52bb-3ed5-4b6c-b3b9-29a2b25cad22\" name=\"files[]\" multiple disabled\n",
              "        style=\"border:none\" />\n",
              "     <output id=\"result-4d4b52bb-3ed5-4b6c-b3b9-29a2b25cad22\">\n",
              "      Upload widget is only available when the cell has been executed in the\n",
              "      current browser session. Please rerun this cell to enable.\n",
              "      </output>\n",
              "      <script>// Copyright 2017 Google LLC\n",
              "//\n",
              "// Licensed under the Apache License, Version 2.0 (the \"License\");\n",
              "// you may not use this file except in compliance with the License.\n",
              "// You may obtain a copy of the License at\n",
              "//\n",
              "//      http://www.apache.org/licenses/LICENSE-2.0\n",
              "//\n",
              "// Unless required by applicable law or agreed to in writing, software\n",
              "// distributed under the License is distributed on an \"AS IS\" BASIS,\n",
              "// WITHOUT WARRANTIES OR CONDITIONS OF ANY KIND, either express or implied.\n",
              "// See the License for the specific language governing permissions and\n",
              "// limitations under the License.\n",
              "\n",
              "/**\n",
              " * @fileoverview Helpers for google.colab Python module.\n",
              " */\n",
              "(function(scope) {\n",
              "function span(text, styleAttributes = {}) {\n",
              "  const element = document.createElement('span');\n",
              "  element.textContent = text;\n",
              "  for (const key of Object.keys(styleAttributes)) {\n",
              "    element.style[key] = styleAttributes[key];\n",
              "  }\n",
              "  return element;\n",
              "}\n",
              "\n",
              "// Max number of bytes which will be uploaded at a time.\n",
              "const MAX_PAYLOAD_SIZE = 100 * 1024;\n",
              "\n",
              "function _uploadFiles(inputId, outputId) {\n",
              "  const steps = uploadFilesStep(inputId, outputId);\n",
              "  const outputElement = document.getElementById(outputId);\n",
              "  // Cache steps on the outputElement to make it available for the next call\n",
              "  // to uploadFilesContinue from Python.\n",
              "  outputElement.steps = steps;\n",
              "\n",
              "  return _uploadFilesContinue(outputId);\n",
              "}\n",
              "\n",
              "// This is roughly an async generator (not supported in the browser yet),\n",
              "// where there are multiple asynchronous steps and the Python side is going\n",
              "// to poll for completion of each step.\n",
              "// This uses a Promise to block the python side on completion of each step,\n",
              "// then passes the result of the previous step as the input to the next step.\n",
              "function _uploadFilesContinue(outputId) {\n",
              "  const outputElement = document.getElementById(outputId);\n",
              "  const steps = outputElement.steps;\n",
              "\n",
              "  const next = steps.next(outputElement.lastPromiseValue);\n",
              "  return Promise.resolve(next.value.promise).then((value) => {\n",
              "    // Cache the last promise value to make it available to the next\n",
              "    // step of the generator.\n",
              "    outputElement.lastPromiseValue = value;\n",
              "    return next.value.response;\n",
              "  });\n",
              "}\n",
              "\n",
              "/**\n",
              " * Generator function which is called between each async step of the upload\n",
              " * process.\n",
              " * @param {string} inputId Element ID of the input file picker element.\n",
              " * @param {string} outputId Element ID of the output display.\n",
              " * @return {!Iterable<!Object>} Iterable of next steps.\n",
              " */\n",
              "function* uploadFilesStep(inputId, outputId) {\n",
              "  const inputElement = document.getElementById(inputId);\n",
              "  inputElement.disabled = false;\n",
              "\n",
              "  const outputElement = document.getElementById(outputId);\n",
              "  outputElement.innerHTML = '';\n",
              "\n",
              "  const pickedPromise = new Promise((resolve) => {\n",
              "    inputElement.addEventListener('change', (e) => {\n",
              "      resolve(e.target.files);\n",
              "    });\n",
              "  });\n",
              "\n",
              "  const cancel = document.createElement('button');\n",
              "  inputElement.parentElement.appendChild(cancel);\n",
              "  cancel.textContent = 'Cancel upload';\n",
              "  const cancelPromise = new Promise((resolve) => {\n",
              "    cancel.onclick = () => {\n",
              "      resolve(null);\n",
              "    };\n",
              "  });\n",
              "\n",
              "  // Wait for the user to pick the files.\n",
              "  const files = yield {\n",
              "    promise: Promise.race([pickedPromise, cancelPromise]),\n",
              "    response: {\n",
              "      action: 'starting',\n",
              "    }\n",
              "  };\n",
              "\n",
              "  cancel.remove();\n",
              "\n",
              "  // Disable the input element since further picks are not allowed.\n",
              "  inputElement.disabled = true;\n",
              "\n",
              "  if (!files) {\n",
              "    return {\n",
              "      response: {\n",
              "        action: 'complete',\n",
              "      }\n",
              "    };\n",
              "  }\n",
              "\n",
              "  for (const file of files) {\n",
              "    const li = document.createElement('li');\n",
              "    li.append(span(file.name, {fontWeight: 'bold'}));\n",
              "    li.append(span(\n",
              "        `(${file.type || 'n/a'}) - ${file.size} bytes, ` +\n",
              "        `last modified: ${\n",
              "            file.lastModifiedDate ? file.lastModifiedDate.toLocaleDateString() :\n",
              "                                    'n/a'} - `));\n",
              "    const percent = span('0% done');\n",
              "    li.appendChild(percent);\n",
              "\n",
              "    outputElement.appendChild(li);\n",
              "\n",
              "    const fileDataPromise = new Promise((resolve) => {\n",
              "      const reader = new FileReader();\n",
              "      reader.onload = (e) => {\n",
              "        resolve(e.target.result);\n",
              "      };\n",
              "      reader.readAsArrayBuffer(file);\n",
              "    });\n",
              "    // Wait for the data to be ready.\n",
              "    let fileData = yield {\n",
              "      promise: fileDataPromise,\n",
              "      response: {\n",
              "        action: 'continue',\n",
              "      }\n",
              "    };\n",
              "\n",
              "    // Use a chunked sending to avoid message size limits. See b/62115660.\n",
              "    let position = 0;\n",
              "    do {\n",
              "      const length = Math.min(fileData.byteLength - position, MAX_PAYLOAD_SIZE);\n",
              "      const chunk = new Uint8Array(fileData, position, length);\n",
              "      position += length;\n",
              "\n",
              "      const base64 = btoa(String.fromCharCode.apply(null, chunk));\n",
              "      yield {\n",
              "        response: {\n",
              "          action: 'append',\n",
              "          file: file.name,\n",
              "          data: base64,\n",
              "        },\n",
              "      };\n",
              "\n",
              "      let percentDone = fileData.byteLength === 0 ?\n",
              "          100 :\n",
              "          Math.round((position / fileData.byteLength) * 100);\n",
              "      percent.textContent = `${percentDone}% done`;\n",
              "\n",
              "    } while (position < fileData.byteLength);\n",
              "  }\n",
              "\n",
              "  // All done.\n",
              "  yield {\n",
              "    response: {\n",
              "      action: 'complete',\n",
              "    }\n",
              "  };\n",
              "}\n",
              "\n",
              "scope.google = scope.google || {};\n",
              "scope.google.colab = scope.google.colab || {};\n",
              "scope.google.colab._files = {\n",
              "  _uploadFiles,\n",
              "  _uploadFilesContinue,\n",
              "};\n",
              "})(self);\n",
              "</script> "
            ]
          },
          "metadata": {}
        },
        {
          "output_type": "stream",
          "name": "stdout",
          "text": [
            "Saving shuffled_new.csv to shuffled_new.csv\n"
          ]
        }
      ],
      "source": [
        "from google.colab import files\n",
        "upload = files.upload()"
      ]
    },
    {
      "cell_type": "code",
      "source": [
        "import pandas as pd\n",
        "from sklearn.naive_bayes import GaussianNB\n",
        "from sklearn.preprocessing import LabelEncoder\n",
        "from scipy.stats import chi2_contingency\n",
        "vsr={\n",
        "    'age': ['<=30', '<=30', '31...40', '>40', '>40', '>40', '<=30', '<=30', '>40', '31...40'],\n",
        "    'income': ['high', 'high', 'medium', 'low', 'low', 'low', 'medium', 'low', 'medium', 'medium'],\n",
        "    'student': ['no', 'no', 'no', 'yes', 'yes', 'yes', 'no', 'no', 'yes', 'yes'],\n",
        "    'credit_rating': ['fair', 'fair', 'fair', 'fair', 'fair', 'excellent', 'fair', 'excellent', 'excellent', 'excellent'],\n",
        "    'buys_computer': ['no', 'no', 'yes', 'no', 'yes', 'no', 'yes', 'no', 'yes', 'yes']\n",
        "}\n",
        "df = pd.DataFrame(vsr)"
      ],
      "metadata": {
        "id": "KZJT4skGR39W"
      },
      "execution_count": 7,
      "outputs": []
    },
    {
      "cell_type": "code",
      "source": [
        "#A1\n",
        "import pandas as pd\n",
        "class_counts = df['buys_computer'].value_counts()\n",
        "prior_probabilities = class_counts / len(df)\n",
        "print(\"Prior probabilities for each class:\")\n",
        "print(prior_probabilities)"
      ],
      "metadata": {
        "colab": {
          "base_uri": "https://localhost:8080/"
        },
        "id": "b-UBmiqvSA8L",
        "outputId": "5d959f99-4640-40fa-d0ec-b932589cff7d"
      },
      "execution_count": 10,
      "outputs": [
        {
          "output_type": "stream",
          "name": "stdout",
          "text": [
            "Prior probabilities for each class:\n",
            "no     0.5\n",
            "yes    0.5\n",
            "Name: buys_computer, dtype: float64\n"
          ]
        }
      ]
    },
    {
      "cell_type": "code",
      "source": [
        "#A2\n",
        "target_variable = 'buys_computer'\n",
        "X = df.drop(target_variable, axis=1)\n",
        "y = df[target_variable]\n",
        "label_encoder = LabelEncoder()\n",
        "X_encoded = X.apply(label_encoder.fit_transform)\n",
        "model = GaussianNB()\n",
        "model.fit(X_encoded, y)\n",
        "class_conditional_densities = model.theta_\n",
        "print(\"Class Conditional Densities:\")\n",
        "print(class_conditional_densities)"
      ],
      "metadata": {
        "colab": {
          "base_uri": "https://localhost:8080/"
        },
        "id": "-sRHQyUxTD2M",
        "outputId": "66a07c45-2c4b-4526-885b-fef05498a97c"
      },
      "execution_count": 13,
      "outputs": [
        {
          "output_type": "stream",
          "name": "stdout",
          "text": [
            "Class Conditional Densities:\n",
            "[[1.4 0.6 0.4 0.6]\n",
            " [1.  1.8 0.6 0.6]]\n"
          ]
        }
      ]
    },
    {
      "cell_type": "code",
      "source": [
        "#A3\n",
        "categorical_features = ['age', 'income', 'student', 'credit_rating']\n",
        "for feature1 in categorical_features:\n",
        "    for feature2 in categorical_features:\n",
        "        if feature1 != feature2:\n",
        "            contingency_table = pd.crosstab(df[feature1], df[feature2])\n",
        "            chi2, p, _, _ = chi2_contingency(contingency_table)\n",
        "            print(f\"Chi-squared test for independence between {feature1} and {feature2}:\")\n",
        "            print(f\"Chi2: {chi2}, p-value: {p}\")\n",
        "            alpha = 0.05\n",
        "            if p <= alpha:\n",
        "              print(f\"Conclusion: Not Independent\\n\")\n",
        "            else:\n",
        "              print(f\"Conclusion: Independent\\n\")"
      ],
      "metadata": {
        "colab": {
          "base_uri": "https://localhost:8080/"
        },
        "id": "mF_Sa0UtUyb3",
        "outputId": "6bc520ca-1760-4bfa-f34f-f34a61eb6461"
      },
      "execution_count": 15,
      "outputs": [
        {
          "output_type": "stream",
          "name": "stdout",
          "text": [
            "Chi-squared test for independence between age and income:\n",
            "Chi2: 7.5, p-value: 0.11170929281604328\n",
            "Conclusion: Independent\n",
            "\n",
            "Chi-squared test for independence between age and student:\n",
            "Chi2: 8.0, p-value: 0.018315638888734182\n",
            "Conclusion: Not Independent\n",
            "\n",
            "Chi-squared test for independence between age and credit_rating:\n",
            "Chi2: 0.625, p-value: 0.7316156289466418\n",
            "Conclusion: Independent\n",
            "\n",
            "Chi-squared test for independence between income and age:\n",
            "Chi2: 7.499999999999999, p-value: 0.1117092928160433\n",
            "Conclusion: Independent\n",
            "\n",
            "Chi-squared test for independence between income and student:\n",
            "Chi2: 3.0, p-value: 0.22313016014842982\n",
            "Conclusion: Independent\n",
            "\n",
            "Chi-squared test for independence between income and credit_rating:\n",
            "Chi2: 1.6666666666666665, p-value: 0.4345982085070783\n",
            "Conclusion: Independent\n",
            "\n",
            "Chi-squared test for independence between student and age:\n",
            "Chi2: 8.0, p-value: 0.018315638888734182\n",
            "Conclusion: Not Independent\n",
            "\n",
            "Chi-squared test for independence between student and income:\n",
            "Chi2: 3.0, p-value: 0.22313016014842982\n",
            "Conclusion: Independent\n",
            "\n",
            "Chi-squared test for independence between student and credit_rating:\n",
            "Chi2: 0.41666666666666663, p-value: 0.5186050164287255\n",
            "Conclusion: Independent\n",
            "\n",
            "Chi-squared test for independence between credit_rating and age:\n",
            "Chi2: 0.625, p-value: 0.7316156289466418\n",
            "Conclusion: Independent\n",
            "\n",
            "Chi-squared test for independence between credit_rating and income:\n",
            "Chi2: 1.6666666666666667, p-value: 0.4345982085070783\n",
            "Conclusion: Independent\n",
            "\n",
            "Chi-squared test for independence between credit_rating and student:\n",
            "Chi2: 0.41666666666666663, p-value: 0.5186050164287255\n",
            "Conclusion: Independent\n",
            "\n"
          ]
        }
      ]
    },
    {
      "cell_type": "code",
      "source": [
        "#A4\n",
        "import pandas as pd\n",
        "from sklearn.naive_bayes import GaussianNB\n",
        "from sklearn.model_selection import train_test_split\n",
        "from sklearn.preprocessing import LabelEncoder\n",
        "features = ['age', 'income', 'student', 'credit_rating']\n",
        "target = 'buys_computer'\n",
        "df_encoded = df.copy()\n",
        "label_encoders = {}\n",
        "for feature in features + [target]:\n",
        "    label_encoders[feature] = LabelEncoder()\n",
        "    df_encoded[feature] = label_encoders[feature].fit_transform(df[feature])\n",
        "X = df_encoded[features]\n",
        "y = df_encoded[target]\n",
        "X_train, X_test, y_train, y_test = train_test_split(X, y, test_size=0.2, random_state=42)\n",
        "model = GaussianNB()\n",
        "model.fit(X_train, y_train)\n",
        "accuracy = model.score(X_test, y_test)\n",
        "print(f\"Accuracy of the Naive Bayes classifier: {accuracy}\")"
      ],
      "metadata": {
        "colab": {
          "base_uri": "https://localhost:8080/"
        },
        "id": "qkZRYbJFcKvT",
        "outputId": "2d292745-307a-4e08-e068-fb861aa5d18b"
      },
      "execution_count": 16,
      "outputs": [
        {
          "output_type": "stream",
          "name": "stdout",
          "text": [
            "Accuracy of the Naive Bayes classifier: 1.0\n"
          ]
        }
      ]
    }
  ]
}